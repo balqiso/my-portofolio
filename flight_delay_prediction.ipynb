{
 "cells": [
  {
   "cell_type": "code",
   "execution_count": 4,
   "id": "fb3e4bf8-9c6b-48e8-9421-46853df7e650",
   "metadata": {},
   "outputs": [
    {
     "name": "stdout",
     "output_type": "stream",
     "text": [
      "Accuracy: 1.0\n",
      "\n",
      "Confusion Matrix:\n",
      " [[162   0]\n",
      " [  0  42]]\n",
      "\n",
      "Classification Report:\n",
      "               precision    recall  f1-score   support\n",
      "\n",
      "           0       1.00      1.00      1.00       162\n",
      "           1       1.00      1.00      1.00        42\n",
      "\n",
      "    accuracy                           1.00       204\n",
      "   macro avg       1.00      1.00      1.00       204\n",
      "weighted avg       1.00      1.00      1.00       204\n",
      "\n"
     ]
    }
   ],
   "source": [
    "import pandas as pd\n",
    "import numpy as np\n",
    "from sklearn.model_selection import train_test_split\n",
    "from sklearn.ensemble import RandomForestClassifier\n",
    "from sklearn.metrics import accuracy_score, confusion_matrix, classification_report\n",
    "from sklearn.preprocessing import LabelEncoder\n",
    "\n",
    "# Step 1: Load Data\n",
    "df = pd.read_csv(r'C:\\Users\\Ahmed\\Desktop\\AIRLINE FILES\\FLIGHTS.csv')\n",
    "\n",
    "# Step 2: Feature Engineering\n",
    "df['departure_hour'] = pd.to_datetime(df['departure_time']).dt.hour\n",
    "df['route'] = df['origin'] + \"_\" + df['destination']\n",
    "\n",
    "# Step 3: Simulate Target\n",
    "np.random.seed(42)\n",
    "df['Delayed'] = np.where(df['departure_hour'] >= 18, 1, 0)  # Flights after 6PM more likely delayed\n",
    "\n",
    "# Step 4: Preprocessing\n",
    "le_origin = LabelEncoder()\n",
    "le_dest = LabelEncoder()\n",
    "le_route = LabelEncoder()\n",
    "\n",
    "df['origin_encoded'] = le_origin.fit_transform(df['origin'])\n",
    "df['destination_encoded'] = le_dest.fit_transform(df['destination'])\n",
    "df['route_encoded'] = le_route.fit_transform(df['route'])\n",
    "\n",
    "features = ['origin_encoded', 'destination_encoded', 'departure_hour', 'route_encoded']\n",
    "X = df[features]\n",
    "y = df['Delayed']\n",
    "\n",
    "# Step 5: Train/Test Split\n",
    "X_train, X_test, y_train, y_test = train_test_split(X, y, test_size=0.2, random_state=42)\n",
    "\n",
    "# Step 6: Train Model\n",
    "model = RandomForestClassifier()\n",
    "model.fit(X_train, y_train)\n",
    "\n",
    "# Step 7: Predictions\n",
    "y_pred = model.predict(X_test)\n",
    "\n",
    "# Step 8: Evaluation\n",
    "print(\"Accuracy:\", accuracy_score(y_test, y_pred))\n",
    "print(\"\\nConfusion Matrix:\\n\", confusion_matrix(y_test, y_pred))\n",
    "print(\"\\nClassification Report:\\n\", classification_report(y_test, y_pred))\n"
   ]
  },
  {
   "cell_type": "code",
   "execution_count": null,
   "id": "b25c46d3-9fc4-4ceb-809d-a1b33367cc17",
   "metadata": {},
   "outputs": [],
   "source": []
  }
 ],
 "metadata": {
  "kernelspec": {
   "display_name": "Python [conda env:base] *",
   "language": "python",
   "name": "conda-base-py"
  },
  "language_info": {
   "codemirror_mode": {
    "name": "ipython",
    "version": 3
   },
   "file_extension": ".py",
   "mimetype": "text/x-python",
   "name": "python",
   "nbconvert_exporter": "python",
   "pygments_lexer": "ipython3",
   "version": "3.12.3"
  }
 },
 "nbformat": 4,
 "nbformat_minor": 5
}
